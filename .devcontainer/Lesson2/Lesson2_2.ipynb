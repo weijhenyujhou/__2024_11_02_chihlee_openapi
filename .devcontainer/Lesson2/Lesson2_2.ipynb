{
 "cells": [
  {
   "cell_type": "code",
   "execution_count": 9,
   "metadata": {},
   "outputs": [
    {
     "name": "stdout",
     "output_type": "stream",
     "text": [
      "輸入格式有誤\n",
      "257.25\n"
     ]
    }
   ],
   "source": [
    "# 學生總分300\n",
    "# 1. 有些學生可以加5%（邏輯Bool 判斷）\n",
    "# 2.巢狀判斷 超過300都顯示300分（巢狀判斷多個 Bool判斷）\n",
    "try:\n",
    "    #錯誤的寫法\n",
    "    scores = int(input(\"請輸入學生分數（最高300分)：\"))\n",
    "except ValueError:\n",
    "    print(\"輸入格式有誤\")\n",
    "    \n",
    "    is_add = input(\"學生是否符合加分條件？(y,n)\")\n",
    "if is_add =='y':\n",
    "    scores = scores *1.05\n",
    "    if scores > 300:\n",
    "        scores = 300\n",
    "        \n",
    "print(scores)"
   ]
  },
  {
   "cell_type": "code",
   "execution_count": 8,
   "metadata": {},
   "outputs": [
    {
     "name": "stdout",
     "output_type": "stream",
     "text": [
      "輸入格式有誤\n",
      "程式已結束\n"
     ]
    }
   ],
   "source": [
    "# 學生總分300\n",
    "# 1. 有些學生可以加5%（邏輯Bool 判斷）\n",
    "# 2.巢狀判斷 超過300都顯示300分（巢狀判斷多個 Bool判斷）\n",
    "try:\n",
    "    #正確的寫法\n",
    "    scores = int(input(\"請輸入學生分數（最高300分)：\"))\n",
    "    is_add = input(\"學生是否符合加分條件？(y,n)\")\n",
    "    if is_add =='y':\n",
    "        scores = scores *1.05\n",
    "        if scores > 300:\n",
    "            scores = 300\n",
    "    print(int(scores))\n",
    "except ValueError:\n",
    "    print(\"輸入格式有誤\")\n",
    "print(\"程式已結束\")"
   ]
  },
  {
   "cell_type": "code",
   "execution_count": null,
   "metadata": {},
   "outputs": [
    {
     "name": "stdout",
     "output_type": "stream",
     "text": [
      "輸入格式錯誤\n"
     ]
    }
   ],
   "source": [
    "#處理例外錯誤(try except)\n",
    "# Link:https://docs.python.org/zh-tw/3/tutorial/errors.html#handling-exceptions\n",
    "try:\n",
    "    money = int(input(\"輸入金額\"))\n",
    "    print(money)\n",
    "except:\n",
    "    print(\"輸入格式錯誤\")"
   ]
  }
 ],
 "metadata": {
  "kernelspec": {
   "display_name": "base",
   "language": "python",
   "name": "python3"
  },
  "language_info": {
   "codemirror_mode": {
    "name": "ipython",
    "version": 3
   },
   "file_extension": ".py",
   "mimetype": "text/x-python",
   "name": "python",
   "nbconvert_exporter": "python",
   "pygments_lexer": "ipython3",
   "version": "3.12.2"
  }
 },
 "nbformat": 4,
 "nbformat_minor": 2
}
