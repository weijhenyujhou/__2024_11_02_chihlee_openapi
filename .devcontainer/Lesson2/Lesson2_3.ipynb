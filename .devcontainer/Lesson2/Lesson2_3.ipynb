{
 "cells": [
  {
   "cell_type": "markdown",
   "metadata": {},
   "source": [
    "### 1.例外處理Except"
   ]
  },
  {
   "cell_type": "code",
   "execution_count": null,
   "metadata": {},
   "outputs": [
    {
     "name": "stdout",
     "output_type": "stream",
     "text": [
      "學生分數是:268.8分\n",
      "學生分數是:268.8分\n",
      "程式已結束\n"
     ]
    }
   ],
   "source": [
    "# 學生總分300\n",
    "# 1. 有些學生可以加5%（邏輯Bool 判斷）\n",
    "# 2.巢狀判斷 超過300都顯示300分（巢狀判斷多個 Bool判斷）\n",
    "#正確的寫法2 把Except放在前面 利用else判斷\n",
    "\n",
    "try:\n",
    "    \n",
    "    scores = int(input(\"請輸入學生分數（最高300分)：\"))\n",
    "except Exception:\n",
    "    print(\"發生錯誤\")\n",
    "#沒有發生錯誤時進入到  else流程\n",
    "else:   \n",
    "    is_add = input(\"學生是否符合加分條件？(y,n)\")\n",
    "    if is_add =='y':\n",
    "        scores = scores *1.05\n",
    "        if scores > 300:\n",
    "            scores = 300\n",
    "    print(\"學生分數是:\"+str(scores)+\"分\")\n",
    "    #字串插補方式 減少每次轉換變數型態\n",
    "    print(f\"學生分數是:{scores}分\")\n",
    "\n",
    "print(\"程式已結束\")"
   ]
  },
  {
   "cell_type": "markdown",
   "metadata": {},
   "source": [
    "### 2.多項選擇\n"
   ]
  },
  {
   "cell_type": "markdown",
   "metadata": {},
   "source": [
    "#### 2.1 當遇到多項選擇時，較嚴格的情境放在最上面程式執行"
   ]
  },
  {
   "cell_type": "code",
   "execution_count": null,
   "metadata": {},
   "outputs": [
    {
     "name": "stdout",
     "output_type": "stream",
     "text": [
      "及格\n"
     ]
    }
   ],
   "source": [
    "# 多項選擇 巢狀判斷1 if esle寫法\n",
    "scores = int(input(\"請輸入學生分數:\"))\n",
    "\n",
    "if scores >=90:\n",
    "    print(\"特優\")\n",
    "else: \n",
    "    if scores >=60: \n",
    "        print(\"及格\")\n",
    "    else:\n",
    "        print(\"不及格\")"
   ]
  },
  {
   "cell_type": "code",
   "execution_count": null,
   "metadata": {},
   "outputs": [
    {
     "name": "stdout",
     "output_type": "stream",
     "text": [
      "特優\n"
     ]
    }
   ],
   "source": [
    "# 多項選擇 巢狀判斷2 if elif else寫法\n",
    "scores = int(input(\"請輸入學生分數:\"))\n",
    "\n",
    "if scores >=90:\n",
    "    print(\"特優\")\n",
    "elif scores >=60: \n",
    "    print(\"及格\")\n",
    "else:\n",
    "    print(\"不及格\")"
   ]
  },
  {
   "cell_type": "markdown",
   "metadata": {},
   "source": []
  },
  {
   "cell_type": "markdown",
   "metadata": {},
   "source": []
  },
  {
   "cell_type": "markdown",
   "metadata": {},
   "source": [
    "#### 2.2 請依以下分數分類成績\n",
    "• 90(含)~100分為「優」\n",
    "• 80(含)~89分為「甲」\n",
    "• 70(含)~79分為「乙」\n",
    "• 60(含)~69分為「丙」\n",
    "• 0(含)~59分為「丁」"
   ]
  },
  {
   "cell_type": "code",
   "execution_count": 14,
   "metadata": {},
   "outputs": [
    {
     "ename": "ValueError",
     "evalue": "invalid literal for int() with base 10: ''",
     "output_type": "error",
     "traceback": [
      "\u001b[0;31m---------------------------------------------------------------------------\u001b[0m",
      "\u001b[0;31mValueError\u001b[0m                                Traceback (most recent call last)",
      "Cell \u001b[0;32mIn[14], line 1\u001b[0m\n\u001b[0;32m----> 1\u001b[0m scores \u001b[38;5;241m=\u001b[39m \u001b[38;5;28;43mint\u001b[39;49m\u001b[43m(\u001b[49m\u001b[38;5;28;43minput\u001b[39;49m\u001b[43m(\u001b[49m\u001b[38;5;124;43m\"\u001b[39;49m\u001b[38;5;124;43m請輸入學生分數:\u001b[39;49m\u001b[38;5;124;43m\"\u001b[39;49m\u001b[43m)\u001b[49m\u001b[43m)\u001b[49m\n\u001b[1;32m      2\u001b[0m \u001b[38;5;28;01mif\u001b[39;00m scores \u001b[38;5;241m>\u001b[39m\u001b[38;5;241m=\u001b[39m\u001b[38;5;241m90\u001b[39m:\n\u001b[1;32m      3\u001b[0m     \u001b[38;5;28mprint\u001b[39m(\u001b[38;5;124m\"\u001b[39m\u001b[38;5;124m優\u001b[39m\u001b[38;5;124m\"\u001b[39m)\n",
      "\u001b[0;31mValueError\u001b[0m: invalid literal for int() with base 10: ''"
     ]
    }
   ],
   "source": [
    "scores = int(input(\"請輸入學生分數:\"))\n",
    "if scores >=90:\n",
    "    print(\"優\")\n",
    "elif scores >=80:\n",
    "    print(\"甲\")\n",
    "elif scores >=70:\n",
    "    print(\"乙\")\n",
    "elif scores >=60:\n",
    "    print(\"丙\")\n",
    "elif scores >=50:\n",
    "    print(\"丁\")"
   ]
  },
  {
   "cell_type": "markdown",
   "metadata": {},
   "source": [
    "#####"
   ]
  },
  {
   "cell_type": "markdown",
   "metadata": {},
   "source": [
    "#### 2.3巢狀判斷及邏輯運算值"
   ]
  },
  {
   "cell_type": "code",
   "execution_count": 18,
   "metadata": {},
   "outputs": [
    {
     "ename": "ValueError",
     "evalue": "invalid literal for int() with base 10: ''",
     "output_type": "error",
     "traceback": [
      "\u001b[0;31m---------------------------------------------------------------------------\u001b[0m",
      "\u001b[0;31mValueError\u001b[0m                                Traceback (most recent call last)",
      "Cell \u001b[0;32mIn[18], line 5\u001b[0m\n\u001b[1;32m      1\u001b[0m \u001b[38;5;66;03m#巢狀判斷\u001b[39;00m\n\u001b[1;32m      2\u001b[0m \u001b[38;5;66;03m# 國文100分, 數學100分 獎金1000\u001b[39;00m\n\u001b[1;32m      3\u001b[0m \u001b[38;5;66;03m# 國文或數學其中有一個100分獎金 500\u001b[39;00m\n\u001b[1;32m      4\u001b[0m \u001b[38;5;66;03m#寫法1 不使用邏輯運算值\u001b[39;00m\n\u001b[0;32m----> 5\u001b[0m chinese \u001b[38;5;241m=\u001b[39m \u001b[38;5;28;43mint\u001b[39;49m\u001b[43m(\u001b[49m\u001b[38;5;28;43minput\u001b[39;49m\u001b[43m(\u001b[49m\u001b[38;5;124;43m\"\u001b[39;49m\u001b[38;5;124;43m請輸入國文成績\u001b[39;49m\u001b[38;5;124;43m\"\u001b[39;49m\u001b[43m)\u001b[49m\u001b[43m)\u001b[49m\n\u001b[1;32m      6\u001b[0m math \u001b[38;5;241m=\u001b[39m \u001b[38;5;28mint\u001b[39m(\u001b[38;5;28minput\u001b[39m(\u001b[38;5;124m\"\u001b[39m\u001b[38;5;124m請輸入數學成績\u001b[39m\u001b[38;5;124m\"\u001b[39m))\n\u001b[1;32m      7\u001b[0m \u001b[38;5;28;01mif\u001b[39;00m chinese \u001b[38;5;241m==\u001b[39m\u001b[38;5;241m100\u001b[39m:\n",
      "\u001b[0;31mValueError\u001b[0m: invalid literal for int() with base 10: ''"
     ]
    }
   ],
   "source": [
    "#巢狀判斷\n",
    "# 國文100分, 數學100分 獎金1000\n",
    "# 國文或數學其中有一個100分獎金 500\n",
    "#寫法1 不使用邏輯運算值\n",
    "chinese = int(input(\"請輸入國文成績\"))\n",
    "math = int(input(\"請輸入數學成績\"))\n",
    "if chinese ==100:\n",
    "    if math ==100: #數學國文都100\n",
    "        bonus =1000\n",
    "    else:\n",
    "        bouns = 500 #數學國文有一個不是100\n",
    "elif math ==100:\n",
    "    bonus =500\n",
    "else:               #數學國文都不是100\n",
    "    bonus =0\n",
    "\n",
    "print(f\"獎金{bonus}元\")"
   ]
  },
  {
   "cell_type": "code",
   "execution_count": null,
   "metadata": {},
   "outputs": [
    {
     "name": "stdout",
     "output_type": "stream",
     "text": [
      "獎金500元\n"
     ]
    }
   ],
   "source": [
    "# 寫法2使用邏輯運算值(寫法較簡潔)\n",
    "\n",
    "chinese = int(input(\"請輸入國文成績\"))\n",
    "math = int(input(\"請輸入數學成績\"))\n",
    "\n",
    "if chinese ==100 and math ==100:\n",
    "    bouns = 1000\n",
    "elif chinese == 100 or math == 100:\n",
    "    bouns = 500\n",
    "else:\n",
    "    bonus = 0\n",
    "    \n",
    "print(f\"獎金{bonus}元\")"
   ]
  }
 ],
 "metadata": {
  "kernelspec": {
   "display_name": "base",
   "language": "python",
   "name": "python3"
  },
  "language_info": {
   "codemirror_mode": {
    "name": "ipython",
    "version": 3
   },
   "file_extension": ".py",
   "mimetype": "text/x-python",
   "name": "python",
   "nbconvert_exporter": "python",
   "pygments_lexer": "ipython3",
   "version": "3.12.2"
  }
 },
 "nbformat": 4,
 "nbformat_minor": 2
}
