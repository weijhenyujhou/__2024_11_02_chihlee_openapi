{
 "cells": [
  {
   "cell_type": "code",
   "execution_count": null,
   "metadata": {},
   "outputs": [
    {
     "name": "stdout",
     "output_type": "stream",
     "text": [
      "學生分數是:268.8分\n",
      "學生分數是:268.8分\n",
      "程式已結束\n"
     ]
    }
   ],
   "source": [
    "# 學生總分300\n",
    "# 1. 有些學生可以加5%（邏輯Bool 判斷）\n",
    "# 2.巢狀判斷 超過300都顯示300分（巢狀判斷多個 Bool判斷）\n",
    "#正確的寫法2 把Except放在前面 利用else判斷\n",
    "\n",
    "try:\n",
    "    \n",
    "    scores = int(input(\"請輸入學生分數（最高300分)：\"))\n",
    "except Exception:\n",
    "    print(\"發生錯誤\")\n",
    "#沒有發生錯誤時進入到  else流程\n",
    "else:   \n",
    "    is_add = input(\"學生是否符合加分條件？(y,n)\")\n",
    "    if is_add =='y':\n",
    "        scores = scores *1.05\n",
    "        if scores > 300:\n",
    "            scores = 300\n",
    "    print(\"學生分數是:\"+str(scores)+\"分\")\n",
    "    #字串插補方式 減少每次轉換變數型態\n",
    "    print(f\"學生分數是:{scores}分\")\n",
    "\n",
    "print(\"程式已結束\")"
   ]
  },
  {
   "cell_type": "code",
   "execution_count": null,
   "metadata": {},
   "outputs": [],
   "source": []
  }
 ],
 "metadata": {
  "kernelspec": {
   "display_name": "base",
   "language": "python",
   "name": "python3"
  },
  "language_info": {
   "codemirror_mode": {
    "name": "ipython",
    "version": 3
   },
   "file_extension": ".py",
   "mimetype": "text/x-python",
   "name": "python",
   "nbconvert_exporter": "python",
   "pygments_lexer": "ipython3",
   "version": "3.12.2"
  }
 },
 "nbformat": 4,
 "nbformat_minor": 2
}
