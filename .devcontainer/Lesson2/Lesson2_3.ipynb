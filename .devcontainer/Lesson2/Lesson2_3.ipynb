{
 "cells": [
  {
   "cell_type": "markdown",
   "metadata": {},
   "source": [
    "### 例外處理Except"
   ]
  },
  {
   "cell_type": "code",
   "execution_count": null,
   "metadata": {},
   "outputs": [
    {
     "name": "stdout",
     "output_type": "stream",
     "text": [
      "學生分數是:268.8分\n",
      "學生分數是:268.8分\n",
      "程式已結束\n"
     ]
    }
   ],
   "source": [
    "# 學生總分300\n",
    "# 1. 有些學生可以加5%（邏輯Bool 判斷）\n",
    "# 2.巢狀判斷 超過300都顯示300分（巢狀判斷多個 Bool判斷）\n",
    "#正確的寫法2 把Except放在前面 利用else判斷\n",
    "\n",
    "try:\n",
    "    \n",
    "    scores = int(input(\"請輸入學生分數（最高300分)：\"))\n",
    "except Exception:\n",
    "    print(\"發生錯誤\")\n",
    "#沒有發生錯誤時進入到  else流程\n",
    "else:   \n",
    "    is_add = input(\"學生是否符合加分條件？(y,n)\")\n",
    "    if is_add =='y':\n",
    "        scores = scores *1.05\n",
    "        if scores > 300:\n",
    "            scores = 300\n",
    "    print(\"學生分數是:\"+str(scores)+\"分\")\n",
    "    #字串插補方式 減少每次轉換變數型態\n",
    "    print(f\"學生分數是:{scores}分\")\n",
    "\n",
    "print(\"程式已結束\")"
   ]
  },
  {
   "cell_type": "markdown",
   "metadata": {},
   "source": [
    "### 多項選擇\n",
    "#### 當遇到多項選擇時，較嚴格的情境放在最上面程式執行"
   ]
  },
  {
   "cell_type": "code",
   "execution_count": null,
   "metadata": {},
   "outputs": [
    {
     "name": "stdout",
     "output_type": "stream",
     "text": [
      "及格\n"
     ]
    }
   ],
   "source": [
    "# 多項選擇 巢狀判斷1 if esle寫法\n",
    "scores = int(input(\"請輸入學生分數:\"))\n",
    "\n",
    "if scores >=90:\n",
    "    print(\"特優\")\n",
    "else: \n",
    "    if scores >=60: \n",
    "        print(\"及格\")\n",
    "    else:\n",
    "        print(\"不及格\")"
   ]
  },
  {
   "cell_type": "code",
   "execution_count": null,
   "metadata": {},
   "outputs": [
    {
     "name": "stdout",
     "output_type": "stream",
     "text": [
      "特優\n"
     ]
    }
   ],
   "source": [
    "# 多項選擇 巢狀判斷2 if elif else寫法\n",
    "scores = int(input(\"請輸入學生分數:\"))\n",
    "\n",
    "if scores >=90:\n",
    "    print(\"特優\")\n",
    "elif scores >=60: \n",
    "    print(\"及格\")\n",
    "else:\n",
    "    print(\"不及格\")"
   ]
  },
  {
   "cell_type": "markdown",
   "metadata": {},
   "source": [
    "### 請依以下分數分類成績\n",
    "• 90(含)~100分為「優」\n",
    "• 80(含)~89分為「甲」\n",
    "• 70(含)~79分為「乙」\n",
    "• 60(含)~69分為「丙」\n",
    "• 0(含)~59分為「丁」"
   ]
  },
  {
   "cell_type": "code",
   "execution_count": null,
   "metadata": {},
   "outputs": [],
   "source": [
    "scores = int(input(\"請輸入學生分數:\"))\n",
    "if scores >=90:\n",
    "    print(\"優\")\n",
    "elif scores >=80:\n",
    "    print(\"甲\")\n",
    "elif scores >=70:\n",
    "    print(\"乙\")\n",
    "elif scores >=60:\n",
    "    print(\"丙\")\n",
    "elif scores >=50:\n",
    "    print(\"丁\")"
   ]
  }
 ],
 "metadata": {
  "kernelspec": {
   "display_name": "base",
   "language": "python",
   "name": "python3"
  },
  "language_info": {
   "codemirror_mode": {
    "name": "ipython",
    "version": 3
   },
   "file_extension": ".py",
   "mimetype": "text/x-python",
   "name": "python",
   "nbconvert_exporter": "python",
   "pygments_lexer": "ipython3",
   "version": "3.12.2"
  }
 },
 "nbformat": 4,
 "nbformat_minor": 2
}
