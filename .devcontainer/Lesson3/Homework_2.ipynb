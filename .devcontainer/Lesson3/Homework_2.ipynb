{
 "cells": [
  {
   "cell_type": "code",
   "execution_count": 4,
   "metadata": {},
   "outputs": [
    {
     "name": "stdout",
     "output_type": "stream",
     "text": [
      "您輸入的體重:56(Kg)及身高:171(cm),\n",
      "計算後取得的BMI值約為19.15,\n",
      "您的BMI被歸類為正常範圍。\n",
      "您輸入的體重:67(Kg)及身高:165(cm),\n",
      "計算後取得的BMI值約為24.61,\n",
      "您的BMI被歸類為過重。\n",
      "end\n"
     ]
    }
   ],
   "source": [
    "def bmi_status(bmi:float)->str:\n",
    "    if bmi < 18.5:\n",
    "        status =\"過輕\"\n",
    "    elif bmi >= 18.5 and bmi < 24:\n",
    "        status = \"正常範圍\"\n",
    "    elif bmi >= 24 and bmi < 27:\n",
    "        status = \"過重\"\n",
    "    elif bmi >= 27 and bmi < 30:\n",
    "        status = \"輕度肥胖\"\n",
    "    elif bmi >= 30 and bmi < 35:\n",
    "        status = \"中度肥胖\"\n",
    "    else:\n",
    "        status =\"重度肥胖\"\n",
    "    return status\n",
    "\n",
    "\n",
    "def new_func():\n",
    "    while(True):\n",
    "        try:\n",
    "            height = int(input(\"請輸入身高（公分）\"))\n",
    "            weight = int(input(\"請輸入體重(公斤)\"))\n",
    "        except Exception:\n",
    "            print(\"發生輸入錯誤\")\n",
    "            continue\n",
    "        else:\n",
    "            bmi = weight /(height/100)**2\n",
    "            status = bmi_status(bmi)\n",
    "            print(f\"您輸入的體重:{weight}(Kg)及身高:{height}(cm),\\n計算後取得的BMI值約為{bmi:.2f},\\n您的BMI被歸類為{status}。\")\n",
    "            break\n",
    "while(True):\n",
    "    new_func()\n",
    "    responed = input(\"請問還要繼續玩嗎？(y,n)\")\n",
    "    if responed == \"n\":\n",
    "        break\n",
    "print(\"end\")"
   ]
  }
 ],
 "metadata": {
  "kernelspec": {
   "display_name": "base",
   "language": "python",
   "name": "python3"
  },
  "language_info": {
   "codemirror_mode": {
    "name": "ipython",
    "version": 3
   },
   "file_extension": ".py",
   "mimetype": "text/x-python",
   "name": "python",
   "nbconvert_exporter": "python",
   "pygments_lexer": "ipython3",
   "version": "3.12.2"
  }
 },
 "nbformat": 4,
 "nbformat_minor": 2
}
