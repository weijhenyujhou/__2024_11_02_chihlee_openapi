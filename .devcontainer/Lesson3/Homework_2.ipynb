{
 "cells": [
  {
   "cell_type": "code",
   "execution_count": null,
   "metadata": {},
   "outputs": [
    {
     "name": "stdout",
     "output_type": "stream",
     "text": [
      "輸入錯誤，請輸入有效的數字\n",
      "您輸入的體重:171(Kg)及身高:171(cm),\n",
      "計算後取得的BMI值約為58.48,\n",
      "您的BMI被歸類為重度肥胖。\n",
      "=======以上為您第1次計算的BMI資料\n"
     ]
    }
   ],
   "source": [
    "def bmi_status(bmi:float)->str:\n",
    "    if bmi < 18.5:\n",
    "        status =\"過輕\"\n",
    "    elif bmi >= 18.5 and bmi < 24:\n",
    "        status = \"正常範圍\"\n",
    "    elif bmi >= 24 and bmi < 27:\n",
    "        status = \"過重\"\n",
    "    elif bmi >= 27 and bmi < 30:\n",
    "        status = \"輕度肥胖\"\n",
    "    elif bmi >= 30 and bmi < 35:\n",
    "        status = \"中度肥胖\"\n",
    "    else:\n",
    "        status =\"重度肥胖\"\n",
    "    return status\n",
    "\n",
    "def new_func():\n",
    "    while(True):\n",
    "        try:\n",
    "            height = int(input(\"請輸入身高（公分）\"))\n",
    "            weight = int(input(\"請輸入體重(公斤)\"))\n",
    "            if height <= 0 or weight <= 0:\n",
    "                print(\"必須輸入正數\")\n",
    "                continue\n",
    "        except ValueError:\n",
    "            print(\"輸入錯誤，請輸入有效的數字\")\n",
    "            continue\n",
    "        else:\n",
    "            bmi = weight /(height/100)**2\n",
    "            status = bmi_status(bmi)\n",
    "            print(f\"您輸入的體重:{weight}(Kg)及身高:{height}(cm),\\n計算後取得的BMI值約為{bmi:.2f},\\n您的BMI被歸類為{status}。\")\n",
    "            break\n",
    "        \n",
    "#初始計算次數       \n",
    "counter = 0\n",
    "while(True):\n",
    "    new_func()\n",
    "    #每計算過一次加一\n",
    "    counter +=1\n",
    "    print(f\"=======以上為您第{counter}次計算的BMI資料\")\n",
    "    try:\n",
    "        responed = input(\"請問您還要再計算其他BMI嗎？(y,n) \").lower() #自動將人員輸入字元變成小寫\n",
    "    except Exception:\n",
    "        print(\"輸入錯誤\")\n",
    "        continue\n",
    "    if responed == \"n\":\n",
    "        break\n",
    "print(\"end\")"
   ]
  }
 ],
 "metadata": {
  "kernelspec": {
   "display_name": "base",
   "language": "python",
   "name": "python3"
  },
  "language_info": {
   "codemirror_mode": {
    "name": "ipython",
    "version": 3
   },
   "file_extension": ".py",
   "mimetype": "text/x-python",
   "name": "python",
   "nbconvert_exporter": "python",
   "pygments_lexer": "ipython3",
   "version": "3.12.2"
  }
 },
 "nbformat": 4,
 "nbformat_minor": 2
}
