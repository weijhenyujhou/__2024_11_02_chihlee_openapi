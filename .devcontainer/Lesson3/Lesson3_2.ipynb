{
 "cells": [
  {
   "cell_type": "markdown",
   "metadata": {},
   "source": [
    "### 猜數字遊戲"
   ]
  },
  {
   "cell_type": "markdown",
   "metadata": {},
   "source": [
    "- 使用要件\n",
    "1. 隨機產生一個變數的函式庫\n",
    "2. while 讓使用者能重複猜數字\n",
    "3. if elsif 來提示玩家猜的數字大小方向\n",
    "4. 利用break 來跳出迴圈 當玩家猜中數字"
   ]
  },
  {
   "cell_type": "code",
   "execution_count": null,
   "metadata": {},
   "outputs": [
    {
     "name": "stdout",
     "output_type": "stream",
     "text": [
      "=====猜數字遊戲======\n",
      "please,guess smaller\n",
      "please,guess smaller\n",
      "Please,guess larger\n",
      "Please,guess larger\n",
      "please,guess smaller\n",
      "please,guess smaller\n",
      "Congratulation you are right!!The answer is 46\n",
      "You have guessed 7 times\n",
      "應用程式結束\n"
     ]
    }
   ],
   "source": [
    "import random \n",
    "\n",
    "min = 1\n",
    "max = 100\n",
    "target = random.randint(min , max)\n",
    "target\n",
    "count = 0\n",
    "print(\"=====猜數字遊戲======\")\n",
    "\n",
    "while (True):\n",
    "    guess = int(input(f\"請輸入{min}-{max}的整數）\"))\n",
    "    count += 1\n",
    "    if guess <= max and guess >= min:\n",
    "        if guess == target:\n",
    "            print(F\"Congratulation you are right!!The answer is {target}\")\n",
    "            print(f\"You have guessed {count} times\")\n",
    "            break\n",
    "        elif guess > target:\n",
    "            print(\"please,guess smaller\")\n",
    "            max = guess-1\n",
    "\n",
    "        elif guess < target:\n",
    "            print(\"Please,guess larger\")\n",
    "            min = guess +1\n",
    "    else:\n",
    "        print(\"輸入範圍有誤\")\n",
    "print(\"應用程式結束\")\n",
    "    \n",
    "    "
   ]
  },
  {
   "cell_type": "markdown",
   "metadata": {},
   "source": [
    "- 在增加一層迴圈讓猜數字遊戲可以玩多回合"
   ]
  },
  {
   "cell_type": "code",
   "execution_count": null,
   "metadata": {},
   "outputs": [],
   "source": [
    "import random \n",
    "while(True):\n",
    "    min = 1\n",
    "    max = 100\n",
    "    target = random.randint(min , max)\n",
    "    target\n",
    "    count = 0\n",
    "    print(target)\n",
    "    print(\"=====猜數字遊戲======\")\n",
    "\n",
    "    while (True):\n",
    "        guess = int(input(f\"請輸入{min}-{max}的整數）\"))\n",
    "        count += 1\n",
    "        if guess <= max and guess >= min:\n",
    "            if guess == target:\n",
    "                print(F\"Congratulation you are right!!The answer is {target}\")\n",
    "                print(f\"You have guessed {count} times\")\n",
    "                break\n",
    "            elif guess > target:\n",
    "                print(\"please,guess smaller\")\n",
    "                max = guess-1\n",
    "\n",
    "            elif guess < target:\n",
    "                print(\"Please,guess larger\")\n",
    "                min = guess +1\n",
    "        else:\n",
    "            print(\"輸入範圍有誤\")\n",
    "    responed = input(\"請問還要繼續玩嗎？(y,n)\")\n",
    "    if responed == \"n\":\n",
    "        break\n",
    "            \n",
    "print(\"應用程式結束\")\n",
    "    \n",
    "    "
   ]
  }
 ],
 "metadata": {
  "kernelspec": {
   "display_name": "base",
   "language": "python",
   "name": "python3"
  },
  "language_info": {
   "codemirror_mode": {
    "name": "ipython",
    "version": 3
   },
   "file_extension": ".py",
   "mimetype": "text/x-python",
   "name": "python",
   "nbconvert_exporter": "python",
   "pygments_lexer": "ipython3",
   "version": "3.12.4"
  }
 },
 "nbformat": 4,
 "nbformat_minor": 2
}
