{
 "cells": [
  {
   "cell_type": "markdown",
   "metadata": {},
   "source": []
  },
  {
   "cell_type": "code",
   "execution_count": 19,
   "metadata": {},
   "outputs": [
    {
     "name": "stdout",
     "output_type": "stream",
     "text": [
      "=====猜數字遊戲======\n",
      "please,guess smaller\n",
      "Please, guess larger\n",
      "Please, guess larger\n",
      "please,guess smaller\n",
      "please,guess smaller\n",
      "Please, guess larger\n",
      "please,guess smaller\n",
      "please,guess smaller\n",
      "Congrualation you are right!!The answer is 71\n",
      "You have guessed 9 times\n",
      "應用程式結束\n"
     ]
    }
   ],
   "source": [
    "import random \n",
    "\n",
    "min = 1\n",
    "max = 100\n",
    "target = random.randint(min , max)\n",
    "target\n",
    "count = 0\n",
    "print(\"=====猜數字遊戲======\")\n",
    "\n",
    "while (True):\n",
    "    guess = int(input(f\"請輸入{min}-{max}的整數）\"))\n",
    "    count += 1\n",
    "    if guess <= max and guess >= min:\n",
    "        if guess == target:\n",
    "            print(F\"Congrualation you are right!!The answer is {target}\")\n",
    "            print(f\"You have guessed {count} times\")\n",
    "            break\n",
    "        elif guess > target:\n",
    "            print(\"please,guess smaller\")\n",
    "            max = guess-1\n",
    "\n",
    "        elif guess < target:\n",
    "            print(\"Please, guess larger\")\n",
    "            min = guess +1\n",
    "    else:\n",
    "        print(\"輸入範圍有誤\")\n",
    "print(\"應用程式結束\")\n",
    "    \n",
    "    "
   ]
  }
 ],
 "metadata": {
  "kernelspec": {
   "display_name": "base",
   "language": "python",
   "name": "python3"
  },
  "language_info": {
   "codemirror_mode": {
    "name": "ipython",
    "version": 3
   },
   "file_extension": ".py",
   "mimetype": "text/x-python",
   "name": "python",
   "nbconvert_exporter": "python",
   "pygments_lexer": "ipython3",
   "version": "3.12.2"
  }
 },
 "nbformat": 4,
 "nbformat_minor": 2
}
