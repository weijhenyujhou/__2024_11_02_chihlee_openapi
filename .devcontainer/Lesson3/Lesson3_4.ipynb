{
 "cells": [
  {
   "cell_type": "markdown",
   "metadata": {},
   "source": [
    "## Function 引數值呼叫"
   ]
  },
  {
   "cell_type": "markdown",
   "metadata": {},
   "source": [
    "##### 1.引數值呼叫"
   ]
  },
  {
   "cell_type": "code",
   "execution_count": 5,
   "metadata": {},
   "outputs": [],
   "source": [
    "def menu(wine:str, entree:str,dessert:str):\n",
    "    print(f'酒類:{wine}')\n",
    "    print(f'主餐{entree}')\n",
    "    print(f'甜點{dessert}')\n",
    "    "
   ]
  },
  {
   "cell_type": "code",
   "execution_count": 6,
   "metadata": {},
   "outputs": [
    {
     "name": "stdout",
     "output_type": "stream",
     "text": [
      "酒類:白酒\n",
      "主餐牛排\n",
      "甜點蛋糕\n"
     ]
    }
   ],
   "source": [
    "#引數值得呼叫->依據參數的順序\n",
    "\n",
    "menu('白酒','牛排','蛋糕')"
   ]
  },
  {
   "cell_type": "markdown",
   "metadata": {},
   "source": [
    "##### 2.Function 引數值不需要按照順序填入"
   ]
  },
  {
   "cell_type": "code",
   "execution_count": 11,
   "metadata": {},
   "outputs": [
    {
     "name": "stdout",
     "output_type": "stream",
     "text": [
      "酒類:白酒\n",
      "主餐牛排\n",
      "甜點蛋糕\n",
      "==============\n",
      "酒類:白酒\n",
      "主餐牛排\n",
      "甜點蛋糕\n"
     ]
    }
   ],
   "source": [
    "# 引數名稱的呼叫> 可以不依據順序\n",
    "# 引數名稱是使參數名稱\n",
    "\n",
    "menu(wine='白酒',entree='牛排',dessert='蛋糕')\n",
    "print(\"==============\")\n",
    "menu(entree='牛排',dessert='蛋糕',wine='白酒')"
   ]
  },
  {
   "cell_type": "markdown",
   "metadata": {},
   "source": [
    "##### 3.引數值呼叫方式\n",
    "1. 混合互叫\n",
    "2. 前面使用引數值呼叫\n",
    "3. 後面使用引數名稱呼叫\n",
    "4. 使用引數名稱呼叫後, 全部都要使用引數名稱呼叫"
   ]
  },
  {
   "cell_type": "code",
   "execution_count": 10,
   "metadata": {},
   "outputs": [
    {
     "name": "stdout",
     "output_type": "stream",
     "text": [
      "酒類:白酒\n",
      "主餐牛排\n",
      "甜點蛋糕\n"
     ]
    }
   ],
   "source": [
    "menu('白酒',dessert='蛋糕',entree='牛排')"
   ]
  },
  {
   "cell_type": "markdown",
   "metadata": {},
   "source": [
    "##### 4.指定預設參數的值\n",
    "引數值如果有預設值 要設定在最後一項\n"
   ]
  },
  {
   "cell_type": "code",
   "execution_count": null,
   "metadata": {},
   "outputs": [
    {
     "name": "stdout",
     "output_type": "stream",
     "text": [
      "酒類:白酒\n",
      "主餐:牛排\n",
      "甜點:奶昔\n",
      "==========\n",
      "酒類:白酒\n",
      "主餐:牛排\n",
      "甜點:蛋糕\n"
     ]
    }
   ],
   "source": [
    "def menu(wine:str, entree:str,dessert:str='奶昔'):\n",
    "    print(f'酒類:{wine}')\n",
    "    print(f'主餐:{entree}')\n",
    "    print(f'甜點:{dessert}')\n",
    "    \n",
    "menu('白酒','牛排')\n",
    "print(\"==========\")\n",
    "menu('白酒','牛排',dessert='蛋糕') #有預設值的引數值需要用引數名稱呼叫"
   ]
  },
  {
   "cell_type": "markdown",
   "metadata": {},
   "source": [
    "##### 5. 沒有限制數量的**引數值**得呼叫 def name(*args)"
   ]
  },
  {
   "cell_type": "code",
   "execution_count": 21,
   "metadata": {},
   "outputs": [
    {
     "name": "stdout",
     "output_type": "stream",
     "text": [
      "()\n",
      "(1, 2, 3, 'a', 'c', 3.5, 'abc')\n"
     ]
    }
   ],
   "source": [
    "# *arge 表示沒有限定數量的引數值呼叫\n",
    "\n",
    "def print_args(*args): \n",
    "    print(args)\n",
    "print_args()\n",
    "print_args(1,2,3,'a','c',3.5,'abc')"
   ]
  },
  {
   "cell_type": "markdown",
   "metadata": {},
   "source": [
    "##### 6. 沒有限制數量的**引數值名稱**呼叫 def name(**kwarge)"
   ]
  },
  {
   "cell_type": "code",
   "execution_count": 22,
   "metadata": {},
   "outputs": [
    {
     "name": "stdout",
     "output_type": "stream",
     "text": [
      "{'one': 1, 'two': 2, 'three': 3}\n",
      "==========\n",
      "{}\n"
     ]
    }
   ],
   "source": [
    "def print_kwargs(**kwarge):\n",
    "    print(kwarge)\n",
    "print_kwargs(one=1,two=2,three =3)\n",
    "print(\"==========\")\n",
    "print_kwargs()"
   ]
  }
 ],
 "metadata": {
  "kernelspec": {
   "display_name": "base",
   "language": "python",
   "name": "python3"
  },
  "language_info": {
   "codemirror_mode": {
    "name": "ipython",
    "version": 3
   },
   "file_extension": ".py",
   "mimetype": "text/x-python",
   "name": "python",
   "nbconvert_exporter": "python",
   "pygments_lexer": "ipython3",
   "version": "3.12.2"
  }
 },
 "nbformat": 4,
 "nbformat_minor": 2
}
