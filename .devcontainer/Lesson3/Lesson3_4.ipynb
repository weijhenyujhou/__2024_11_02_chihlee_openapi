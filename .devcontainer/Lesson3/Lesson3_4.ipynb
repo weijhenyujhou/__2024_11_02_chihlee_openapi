{
 "cells": [
  {
   "cell_type": "markdown",
   "metadata": {},
   "source": [
    "## Function 引數值呼叫"
   ]
  },
  {
   "cell_type": "markdown",
   "metadata": {},
   "source": [
    "##### 1.引數值呼叫"
   ]
  },
  {
   "cell_type": "code",
   "execution_count": 5,
   "metadata": {},
   "outputs": [],
   "source": [
    "def menu(wine:str, entree:str,dessert:str):\n",
    "    print(f'酒類:{wine}')\n",
    "    print(f'主餐{entree}')\n",
    "    print(f'甜點{dessert}')\n",
    "    "
   ]
  },
  {
   "cell_type": "code",
   "execution_count": 6,
   "metadata": {},
   "outputs": [
    {
     "name": "stdout",
     "output_type": "stream",
     "text": [
      "酒類:白酒\n",
      "主餐牛排\n",
      "甜點蛋糕\n"
     ]
    }
   ],
   "source": [
    "#引數值得呼叫->依據參數的順序\n",
    "\n",
    "menu('白酒','牛排','蛋糕')"
   ]
  },
  {
   "cell_type": "markdown",
   "metadata": {},
   "source": [
    "##### 2.Function 引數值不需要按照順序填入"
   ]
  },
  {
   "cell_type": "code",
   "execution_count": 9,
   "metadata": {},
   "outputs": [
    {
     "name": "stdout",
     "output_type": "stream",
     "text": [
      "酒類:白酒\n",
      "主餐牛排\n",
      "甜點蛋糕\n",
      "==============\n",
      "酒類:白酒\n",
      "主餐牛排\n",
      "甜點蛋糕\n"
     ]
    }
   ],
   "source": [
    "# 引數名稱的呼叫> 可以不依據順序\n",
    "# 引數名稱是使參數名稱\n",
    "\n",
    "menu(wine='白酒',entree='牛排',dessert='蛋糕')\n",
    "print(\"==============\")\n",
    "menu(entree='牛排',dessert='蛋糕',wine='白酒')"
   ]
  },
  {
   "cell_type": "markdown",
   "metadata": {},
   "source": [
    "##### 3.呼叫方式\n",
    "1. 混合互叫\n",
    "2. 前面使用引數值呼叫\n",
    "3. 後面使用引數名稱呼叫\n",
    "4. 使用引數名稱呼叫後, 全部都要使用引數名稱呼叫"
   ]
  },
  {
   "cell_type": "code",
   "execution_count": 10,
   "metadata": {},
   "outputs": [
    {
     "name": "stdout",
     "output_type": "stream",
     "text": [
      "酒類:白酒\n",
      "主餐牛排\n",
      "甜點蛋糕\n"
     ]
    }
   ],
   "source": [
    "menu('白酒',dessert='蛋糕',entree='牛排')"
   ]
  }
 ],
 "metadata": {
  "kernelspec": {
   "display_name": "base",
   "language": "python",
   "name": "python3"
  },
  "language_info": {
   "codemirror_mode": {
    "name": "ipython",
    "version": 3
   },
   "file_extension": ".py",
   "mimetype": "text/x-python",
   "name": "python",
   "nbconvert_exporter": "python",
   "pygments_lexer": "ipython3",
   "version": "3.12.2"
  }
 },
 "nbformat": 4,
 "nbformat_minor": 2
}
