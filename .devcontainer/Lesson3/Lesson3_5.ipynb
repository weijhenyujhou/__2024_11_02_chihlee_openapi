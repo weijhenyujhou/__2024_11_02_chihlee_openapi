{
 "cells": [
  {
   "cell_type": "markdown",
   "metadata": {},
   "source": [
    "#### 型別提示"
   ]
  },
  {
   "cell_type": "markdown",
   "metadata": {},
   "source": [
    "##### Typehine\n",
    "1. 變數、參數、Return"
   ]
  },
  {
   "cell_type": "code",
   "execution_count": null,
   "metadata": {},
   "outputs": [],
   "source": [
    "i:int = 10 "
   ]
  },
  {
   "cell_type": "markdown",
   "metadata": {},
   "source": [
    "##### 2. python is a First class 程式語言\n",
    "1. Function也可有型別\n",
    "2. 變數可以當儲存Function\n",
    "3. Function 可以當參數\n",
    "4. Function可以當作傳出值\n",
    "- https://docs.python.org/zh-tw/3/library/typing.html#module-typing"
   ]
  },
  {
   "cell_type": "code",
   "execution_count": 3,
   "metadata": {},
   "outputs": [
    {
     "data": {
      "text/plain": [
       "19"
      ]
     },
     "execution_count": 3,
     "metadata": {},
     "output_type": "execute_result"
    }
   ],
   "source": [
    "from typing import Callable\n",
    "myfunction =  Callable[[int,int],int] \n",
    "def add (a:int,b:int)-> int:\n",
    "    return a + b\n",
    "\n",
    "myfun:myfunction = add #把方法給另一個型別\n",
    "\n",
    "\n",
    "myfun(9,10)"
   ]
  },
  {
   "cell_type": "code",
   "execution_count": 15,
   "metadata": {},
   "outputs": [
    {
     "name": "stdout",
     "output_type": "stream",
     "text": [
      "function Start\n",
      "function Stop\n"
     ]
    }
   ],
   "source": [
    "#decorator的功能\n",
    "#修飾Function\n",
    "\n",
    "def decorator_function(original_function):\n",
    "    def wrapper_function():\n",
    "        print(\"function Start\")\n",
    "        original_function\n",
    "        print(\"function Stop\")\n",
    "    return wrapper_function\n",
    "\n",
    "def say_hello():\n",
    "    print(\"Hello:Weiyu\")\n",
    "    \n",
    "    \n",
    "newFunction = decorator_function(say_hello)\n",
    "newFunction()\n"
   ]
  },
  {
   "cell_type": "code",
   "execution_count": 11,
   "metadata": {},
   "outputs": [
    {
     "name": "stdout",
     "output_type": "stream",
     "text": [
      "function Start\n",
      "function Stop\n"
     ]
    }
   ],
   "source": [
    "@decorator_function\n",
    "\n",
    "def abc():\n",
    "    print(\"Hello weiyu\")\n",
    "abc()"
   ]
  }
 ],
 "metadata": {
  "kernelspec": {
   "display_name": "base",
   "language": "python",
   "name": "python3"
  },
  "language_info": {
   "codemirror_mode": {
    "name": "ipython",
    "version": 3
   },
   "file_extension": ".py",
   "mimetype": "text/x-python",
   "name": "python",
   "nbconvert_exporter": "python",
   "pygments_lexer": "ipython3",
   "version": "3.12.2"
  }
 },
 "nbformat": 4,
 "nbformat_minor": 2
}
