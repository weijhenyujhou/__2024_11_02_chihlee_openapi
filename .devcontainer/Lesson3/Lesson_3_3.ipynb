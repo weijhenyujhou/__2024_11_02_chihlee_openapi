{
 "cells": [
  {
   "cell_type": "markdown",
   "metadata": {},
   "source": [
    "### Function 定義"
   ]
  },
  {
   "cell_type": "code",
   "execution_count": null,
   "metadata": {},
   "outputs": [],
   "source": [
    "import random \n",
    "while(True):\n",
    "    min = 1\n",
    "    max = 100\n",
    "    target = random.randint(min , max)\n",
    "    target\n",
    "    count = 0\n",
    "    print(target)\n",
    "    print(\"=====猜數字遊戲======\")\n",
    "\n",
    "    while (True):\n",
    "        guess = int(input(f\"請輸入{min}-{max}的整數）\"))\n",
    "        count += 1\n",
    "        if guess <= max and guess >= min:\n",
    "            if guess == target:\n",
    "                print(F\"Congratulation you are right!!The answer is {target}\")\n",
    "                print(f\"You have guessed {count} times\")\n",
    "                break\n",
    "            elif guess > target:\n",
    "                print(\"please,guess smaller\")\n",
    "                max = guess-1\n",
    "\n",
    "            elif guess < target:\n",
    "                print(\"Please,guess larger\")\n",
    "                min = guess +1\n",
    "        else:\n",
    "            print(\"輸入範圍有誤\")\n",
    "    responed = input(\"請問還要繼續玩嗎？(y,n)\")\n",
    "    if responed == \"n\":\n",
    "        break\n",
    "            \n",
    "print(\"應用程式結束\")\n",
    "    \n",
    "    "
   ]
  },
  {
   "cell_type": "code",
   "execution_count": 6,
   "metadata": {},
   "outputs": [
    {
     "name": "stdout",
     "output_type": "stream",
     "text": [
      "53\n",
      "============玩猜數字遊戲===========\n",
      "Congratulation you are right!!The answer is 53\n",
      "You have guessed 1 times\n",
      "應用程式結束\n"
     ]
    }
   ],
   "source": [
    "import random\n",
    " \n",
    "def numberguessgame():\n",
    "    min = 1\n",
    "    max = 100\n",
    "    target = random.randint(min , max)\n",
    "    target\n",
    "    count = 0\n",
    "    print(target)\n",
    "    print(f\"============玩猜數字遊戲===========\")\n",
    "\n",
    "    while (True):\n",
    "        guess = int(input(f\"請輸入{min}-{max}的整數）\"))\n",
    "        count += 1\n",
    "        if guess <= max and guess >= min:\n",
    "            if guess == target:\n",
    "                print(F\"Congratulation you are right!!The answer is {target}\")\n",
    "                print(f\"You have guessed {count} times\")\n",
    "                break\n",
    "            elif guess > target:\n",
    "                print(\"please,guess smaller\")\n",
    "                max = guess-1\n",
    "\n",
    "            elif guess < target:\n",
    "                print(\"Please,guess larger\")\n",
    "                min = guess +1\n",
    "        else:\n",
    "            print(\"輸入範圍有誤\")\n",
    "\n",
    "while(True):\n",
    "    numberguessgame()\n",
    "    responed = input(\"請問還要繼續玩嗎？(y,n)\")\n",
    "    if responed == \"n\":\n",
    "        break\n",
    "            \n",
    "print(\"應用程式結束\")\n",
    "    \n",
    "    "
   ]
  },
  {
   "cell_type": "markdown",
   "metadata": {},
   "source": [
    "#### 自訂一個計算三角形斜邊畢氏定理的function 並回傳斜邊計算值"
   ]
  },
  {
   "cell_type": "code",
   "execution_count": 9,
   "metadata": {},
   "outputs": [
    {
     "data": {
      "text/plain": [
       "5.0"
      ]
     },
     "execution_count": 9,
     "metadata": {},
     "output_type": "execute_result"
    }
   ],
   "source": [
    "import math\n",
    "def theorem (side:float,another_side:float)->float:\n",
    "    return math.sqrt(side**2 + another_side**2) \n",
    "\n",
    "theorem(3,4) \n"
   ]
  },
  {
   "cell_type": "code",
   "execution_count": null,
   "metadata": {},
   "outputs": [],
   "source": []
  }
 ],
 "metadata": {
  "kernelspec": {
   "display_name": "base",
   "language": "python",
   "name": "python3"
  },
  "language_info": {
   "codemirror_mode": {
    "name": "ipython",
    "version": 3
   },
   "file_extension": ".py",
   "mimetype": "text/x-python",
   "name": "python",
   "nbconvert_exporter": "python",
   "pygments_lexer": "ipython3",
   "version": "3.12.2"
  }
 },
 "nbformat": 4,
 "nbformat_minor": 2
}
