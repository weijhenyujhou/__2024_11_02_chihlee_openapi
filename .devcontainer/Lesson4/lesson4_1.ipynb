{
 "cells": [
  {
   "cell_type": "markdown",
   "metadata": {},
   "source": [
    "### 11/23 Module\n",
    "\n",
    "1. 內部套件 * 說明 / 前面全部要使用引數值呼叫  ＊後面要用引數名稱呼叫\n",
    "2. 外部套件 pypi套件索引\n",
    "3. 自訂的Function\n",
    "    - 主程式變簡單\n",
    "    - 可重複呼叫\n",
    "    - 可簡化"
   ]
  },
  {
   "cell_type": "code",
   "execution_count": null,
   "metadata": {},
   "outputs": [],
   "source": []
  }
 ],
 "metadata": {
  "kernelspec": {
   "display_name": "base",
   "language": "python",
   "name": "python3"
  },
  "language_info": {
   "name": "python",
   "version": "3.12.2"
  }
 },
 "nbformat": 4,
 "nbformat_minor": 2
}
