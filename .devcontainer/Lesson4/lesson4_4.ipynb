{
 "cells": [
  {
   "cell_type": "markdown",
   "metadata": {},
   "source": [
    "### Class \n",
    "\n",
    "intinal 初始化的方法\n",
    "初始化變數"
   ]
  },
  {
   "cell_type": "code",
   "execution_count": 82,
   "metadata": {},
   "outputs": [],
   "source": [
    "#父類別\n",
    "class Person:\n",
    "    def __init__ (self,name:str,age:int):\n",
    "        self.name = name\n",
    "        self.age = age\n",
    "    def echo(self):\n",
    "        print(f\"我的名子是{self.name}\")\n",
    "        print(f\"我的年紀是{self.age}\")\n",
    "    \n"
   ]
  },
  {
   "cell_type": "code",
   "execution_count": 83,
   "metadata": {},
   "outputs": [
    {
     "name": "stdout",
     "output_type": "stream",
     "text": [
      "我的名子是Wei\n",
      "我的年紀是24\n"
     ]
    }
   ],
   "source": [
    "p1 = Person('Wei',24)\n",
    "p1.echo()"
   ]
  },
  {
   "cell_type": "markdown",
   "metadata": {},
   "source": [
    "#### 繼承\n",
    "- s1:student = student('小張',age = 17)\n",
    "    - s1 繼承student\n",
    "    - student 繼承 Person"
   ]
  },
  {
   "cell_type": "code",
   "execution_count": 86,
   "metadata": {},
   "outputs": [],
   "source": [
    "#子class\n",
    "\n",
    "class student(Person):\n",
    "    def __init__(self,name:str,age:int,score:int):\n",
    "        super().__init__(name=name,age=age) #呼叫父類別初始化\n",
    "        self.__score =score\n",
    "    \n",
    "    @property\n",
    "    def socre(self)->int:\n",
    "        return self.__score\n",
    "    \n",
    "    def echo(self):\n",
    "        super().echo() #呼叫父類別方法\n",
    "        print(f\"我的分數是:{self.__score}\")"
   ]
  },
  {
   "cell_type": "code",
   "execution_count": 87,
   "metadata": {},
   "outputs": [
    {
     "name": "stdout",
     "output_type": "stream",
     "text": [
      "我的名子是小張\n",
      "我的年紀是17\n",
      "我的分數是:245\n"
     ]
    }
   ],
   "source": [
    "s1:student = student('小張',age = 17,score = 245)\n",
    "s1.socre\n",
    "s1.echo()"
   ]
  }
 ],
 "metadata": {
  "kernelspec": {
   "display_name": "base",
   "language": "python",
   "name": "python3"
  },
  "language_info": {
   "codemirror_mode": {
    "name": "ipython",
    "version": 3
   },
   "file_extension": ".py",
   "mimetype": "text/x-python",
   "name": "python",
   "nbconvert_exporter": "python",
   "pygments_lexer": "ipython3",
   "version": "3.12.2"
  }
 },
 "nbformat": 4,
 "nbformat_minor": 2
}
