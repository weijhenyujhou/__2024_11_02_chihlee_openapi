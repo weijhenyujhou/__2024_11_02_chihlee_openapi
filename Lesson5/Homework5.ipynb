{
 "cells": [
  {
   "cell_type": "code",
   "execution_count": null,
   "metadata": {},
   "outputs": [],
   "source": [
    "import random\n",
    "\n",
    "def generateLotter_number():\n",
    "    lotter_number = random."
   ]
  },
  {
   "cell_type": "code",
   "execution_count": null,
   "metadata": {},
   "outputs": [
    {
     "name": "stdout",
     "output_type": "stream",
     "text": [
      "大樂透電腦(1-49)選號結果:[9, 11, 25, 40, 41, 45]\n",
      "特別號碼:46\n"
     ]
    }
   ],
   "source": [
    "import random\n",
    "\n",
    "def generate_lottery_numbers():\n",
    "    regular_numbers =[]\n",
    "    # 隨機產生7個不重複的數值,前6個為一般號碼,最後一個為特別號\n",
    "    random_numbers = random.sample(range(1, 49), 7)\n",
    "    regular_numbers = sorted(random_numbers[:6]) #隨機產生七個的前六個號碼排序\n",
    "    special_number = random_numbers[-1] #隨機產生七個號碼最後一個當作特別號\n",
    "    #回傳號碼組跟特別號\n",
    "    return regular_numbers,special_number\n",
    "\n",
    "def main():\n",
    "    \n",
    "    regular_numbers, special_number = generate_lottery_numbers()\n",
    "    print(f\"大樂透電腦(1-49)選號結果:{regular_numbers}\")\n",
    "    print(f\"特別號碼:{special_number}\")\n",
    "    \n",
    "if __name__ == \"__main__\":\n",
    "    main()\n"
   ]
  }
 ],
 "metadata": {
  "kernelspec": {
   "display_name": "base",
   "language": "python",
   "name": "python3"
  },
  "language_info": {
   "codemirror_mode": {
    "name": "ipython",
    "version": 3
   },
   "file_extension": ".py",
   "mimetype": "text/x-python",
   "name": "python",
   "nbconvert_exporter": "python",
   "pygments_lexer": "ipython3",
   "version": "3.12.2"
  }
 },
 "nbformat": 4,
 "nbformat_minor": 2
}
