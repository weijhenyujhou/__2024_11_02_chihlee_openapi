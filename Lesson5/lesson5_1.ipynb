{
 "cells": [
  {
   "cell_type": "markdown",
   "metadata": {},
   "source": [
    "### Python 內建資料結構\n",
    "1. List\n",
    "2. Dict(Dictionary)\n",
    "3. Set"
   ]
  },
  {
   "cell_type": "markdown",
   "metadata": {},
   "source": [
    "#### List\n",
    "- 組成\n",
    "    1. 元素組成 elemetns \n",
    "- 特性\n",
    "    1. Sort\n",
    "    2. Search\n",
    "    3. Index number(start from 0 and continus 0,1,2)"
   ]
  },
  {
   "cell_type": "markdown",
   "metadata": {},
   "source": [
    "#### Sort & Search\n",
    "- 建立\n",
    "- 計算長度\n",
    "- 擷取\n",
    "    1. index 方式(指定前後位置, index正負往前及往後搜尋,)\n",
    "    2. for in loop方式\n",
    "- 搜尋\n",
    "    1. for in loop + if 取出list內最大最小值"
   ]
  },
  {
   "cell_type": "code",
   "execution_count": 7,
   "metadata": {},
   "outputs": [
    {
     "data": {
      "text/plain": [
       "([1, 2, 3, 4, 5, 6, 7, 8, 9], list)"
      ]
     },
     "execution_count": 7,
     "metadata": {},
     "output_type": "execute_result"
    }
   ],
   "source": [
    "#List\n",
    "#creat\n",
    "\n",
    "number:list = list(range(1,10))\n",
    "number\n",
    "type(number)\n",
    "number,type(number)"
   ]
  },
  {
   "cell_type": "code",
   "execution_count": 8,
   "metadata": {},
   "outputs": [
    {
     "data": {
      "text/plain": [
       "([], list)"
      ]
     },
     "execution_count": 8,
     "metadata": {},
     "output_type": "execute_result"
    }
   ],
   "source": [
    "number1:list =list()\n",
    "number1, type(number1)"
   ]
  },
  {
   "cell_type": "code",
   "execution_count": 10,
   "metadata": {},
   "outputs": [
    {
     "data": {
      "text/plain": [
       "[1, 10, 100]"
      ]
     },
     "execution_count": 10,
     "metadata": {},
     "output_type": "execute_result"
    }
   ],
   "source": [
    "#list 建立\n",
    "number2 = [1, 10, 100]\n",
    "number2 "
   ]
  },
  {
   "cell_type": "code",
   "execution_count": 19,
   "metadata": {},
   "outputs": [
    {
     "data": {
      "text/plain": [
       "(1, 10)"
      ]
     },
     "execution_count": 19,
     "metadata": {},
     "output_type": "execute_result"
    }
   ],
   "source": [
    "#取出list內的值的方式\n",
    "number2 = [1, 10, 100, 127, 91, 85]\n",
    "# List長度\n",
    "len(number2)\n",
    "# index 方式\n",
    "number2[0], number2[1]"
   ]
  },
  {
   "cell_type": "code",
   "execution_count": null,
   "metadata": {},
   "outputs": [
    {
     "name": "stdout",
     "output_type": "stream",
     "text": [
      "1\n",
      "10\n",
      "100\n"
     ]
    }
   ],
   "source": [
    "# for  in loop方式取出\n",
    "for element in number2:\n",
    "    print(element)"
   ]
  },
  {
   "cell_type": "code",
   "execution_count": 20,
   "metadata": {},
   "outputs": [
    {
     "data": {
      "text/plain": [
       "127"
      ]
     },
     "execution_count": 20,
     "metadata": {},
     "output_type": "execute_result"
    }
   ],
   "source": [
    "# for in + if 判斷 list 內最大值\n",
    "max = 0\n",
    "for element in number2:\n",
    "    if max < element:\n",
    "        max = element\n",
    "max"
   ]
  },
  {
   "cell_type": "code",
   "execution_count": null,
   "metadata": {},
   "outputs": [
    {
     "data": {
      "text/plain": [
       "1"
      ]
     },
     "execution_count": 21,
     "metadata": {},
     "output_type": "execute_result"
    }
   ],
   "source": [
    "# for in + if 判斷 list 內最小值\n",
    "min = None\n",
    "for element in number2:\n",
    "    #先把list值給min 再拿去比較最小\n",
    "    if min is None:\n",
    "        min = element\n",
    "    elif min < element:\n",
    "        min = element\n",
    "min"
   ]
  },
  {
   "cell_type": "code",
   "execution_count": 23,
   "metadata": {},
   "outputs": [
    {
     "data": {
      "text/plain": [
       "1"
      ]
     },
     "execution_count": 23,
     "metadata": {},
     "output_type": "execute_result"
    }
   ],
   "source": [
    "# for in + if 判斷 list 內最小值 ＃2\n",
    "min = number2[0]\n",
    "for element in number2:\n",
    "    if min > element:\n",
    "        min = element\n",
    "min"
   ]
  },
  {
   "cell_type": "code",
   "execution_count": null,
   "metadata": {},
   "outputs": [
    {
     "data": {
      "text/plain": [
       "([1, 10], [100, 127], [1, 10, 100])"
      ]
     },
     "execution_count": 25,
     "metadata": {},
     "output_type": "execute_result"
    }
   ],
   "source": [
    "#取出 List內index區間內的值\n",
    "\n",
    "number2[0:2], number2[2:4], number2[:3]"
   ]
  },
  {
   "cell_type": "code",
   "execution_count": 28,
   "metadata": {},
   "outputs": [
    {
     "data": {
      "text/plain": [
       "(85, 91, 127, [127, 91], [127, 91, 85])"
      ]
     },
     "execution_count": 28,
     "metadata": {},
     "output_type": "execute_result"
    }
   ],
   "source": [
    "number2[-1], number2[-2], number2[-3], number2[-3:-1], number2[-3:]"
   ]
  },
  {
   "cell_type": "code",
   "execution_count": 29,
   "metadata": {},
   "outputs": [
    {
     "data": {
      "text/plain": [
       "1"
      ]
     },
     "execution_count": 29,
     "metadata": {},
     "output_type": "execute_result"
    }
   ],
   "source": [
    "# for in + if 判斷 list 內最小值 ＃2\n",
    "min = number2[0]\n",
    "for element in number2[1:]:\n",
    "    if min > element:\n",
    "        min = element\n",
    "min"
   ]
  }
 ],
 "metadata": {
  "kernelspec": {
   "display_name": "base",
   "language": "python",
   "name": "python3"
  },
  "language_info": {
   "codemirror_mode": {
    "name": "ipython",
    "version": 3
   },
   "file_extension": ".py",
   "mimetype": "text/x-python",
   "name": "python",
   "nbconvert_exporter": "python",
   "pygments_lexer": "ipython3",
   "version": "3.12.2"
  }
 },
 "nbformat": 4,
 "nbformat_minor": 2
}
