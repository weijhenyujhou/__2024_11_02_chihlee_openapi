{
 "cells": [
  {
   "cell_type": "markdown",
   "metadata": {},
   "source": []
  },
  {
   "cell_type": "code",
   "execution_count": null,
   "metadata": {},
   "outputs": [
    {
     "name": "stdout",
     "output_type": "stream",
     "text": [
      "Banana\n",
      "10\n",
      "===========\n",
      "Apple\n",
      "20\n",
      "===========\n",
      "Cherry\n",
      "30\n",
      "===========\n"
     ]
    }
   ],
   "source": [
    "class item:\n",
    "    def __init__(self, name:str, price:int):\n",
    "        self.name = name\n",
    "        self.price = price\n",
    "items = [\n",
    "        item('Apple', 20),\n",
    "        item('Banana', 10),\n",
    "        item('Cherry', 30)\n",
    "        ]\n",
    "#寫一個function把告訴sorted需要依照什麼排序\n",
    "def abc(x:item):\n",
    "    return x.price\n",
    "# 依照price排序後存入排序後item\n",
    "sortedItems = sorted(items, key = abc)\n",
    "for item in sortedItems:\n",
    "    print(item.name)\n",
    "    print(item.price)\n",
    "    print(\"===========\")"
   ]
  }
 ],
 "metadata": {
  "kernelspec": {
   "display_name": "base",
   "language": "python",
   "name": "python3"
  },
  "language_info": {
   "codemirror_mode": {
    "name": "ipython",
    "version": 3
   },
   "file_extension": ".py",
   "mimetype": "text/x-python",
   "name": "python",
   "nbconvert_exporter": "python",
   "pygments_lexer": "ipython3",
   "version": "3.12.2"
  }
 },
 "nbformat": 4,
 "nbformat_minor": 2
}
