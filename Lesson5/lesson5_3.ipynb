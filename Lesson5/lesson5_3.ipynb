{
 "cells": [
  {
   "cell_type": "markdown",
   "metadata": {},
   "source": [
    "#### 匿名函數＆Dictionary"
   ]
  },
  {
   "cell_type": "code",
   "execution_count": null,
   "metadata": {},
   "outputs": [],
   "source": [
    "class item:\n",
    "    def __init__(self, name:str, price:int):\n",
    "        self.name = name\n",
    "        self.price = price\n",
    "items = [\n",
    "        item('Apple', 20),\n",
    "        item('Banana', 10),\n",
    "        item('Cherry', 30)\n",
    "        ]\n",
    "#寫一個function把告訴sorted需要依照什麼排序\n",
    "#def abc(x:item)-> int:\n",
    "#    return x.price\n",
    "\n",
    "# 依照price排序後存入排序後item\n",
    "sortedItems = sorted(items, key =lambda x:x.price)\n",
    "for item in sortedItems:\n",
    "    print(item.name)\n",
    "    print(item.price)\n",
    "    print(\"===========\")"
   ]
  },
  {
   "cell_type": "code",
   "execution_count": 2,
   "metadata": {},
   "outputs": [],
   "source": [
    "#Dictionary表示 {items}\n",
    "#不用寫class 直接存一組資料\n",
    "items = [\n",
    "    {\"name\":\"Apple\", \"Price\":20},\n",
    "    {\"name\":\"Banana\", \"Price\":10},\n",
    "    {\"name\":\"Cherry\", \"Price\":30}\n",
    "]"
   ]
  },
  {
   "cell_type": "code",
   "execution_count": 1,
   "metadata": {},
   "outputs": [
    {
     "data": {
      "text/plain": [
       "('Apple', 20)"
      ]
     },
     "execution_count": 1,
     "metadata": {},
     "output_type": "execute_result"
    }
   ],
   "source": [
    "item:dict = {\"name\":\"Apple\",\n",
    "             \"price\":20}\n",
    "\n",
    "item['name'],item['price']"
   ]
  }
 ],
 "metadata": {
  "kernelspec": {
   "display_name": "base",
   "language": "python",
   "name": "python3"
  },
  "language_info": {
   "codemirror_mode": {
    "name": "ipython",
    "version": 3
   },
   "file_extension": ".py",
   "mimetype": "text/x-python",
   "name": "python",
   "nbconvert_exporter": "python",
   "pygments_lexer": "ipython3",
   "version": "3.12.4"
  }
 },
 "nbformat": 4,
 "nbformat_minor": 2
}
