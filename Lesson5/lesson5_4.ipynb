{
 "cells": [
  {
   "cell_type": "markdown",
   "metadata": {},
   "source": [
    "#### 1. Dictionary 資料結構"
   ]
  },
  {
   "cell_type": "code",
   "execution_count": 6,
   "metadata": {},
   "outputs": [
    {
     "data": {
      "text/plain": [
       "[{'name': 'Cherry', 'Price': 30},\n",
       " {'name': 'Banana', 'Price': 10},\n",
       " {'name': 'Apple', 'Price': 20}]"
      ]
     },
     "execution_count": 6,
     "metadata": {},
     "output_type": "execute_result"
    }
   ],
   "source": [
    "#Dictionary表示 {items}\n",
    "#不用寫class 直接存一組資料\n",
    "items:list[dict] = [\n",
    "    {\"name\":\"Apple\", \"Price\":20},\n",
    "    {\"name\":\"Banana\", \"Price\":10},\n",
    "    {\"name\":\"Cherry\", \"Price\":30}\n",
    "]\n",
    "\n",
    "sorted(items,key =lambda x:x['name'],reverse=True)"
   ]
  },
  {
   "cell_type": "code",
   "execution_count": null,
   "metadata": {},
   "outputs": [],
   "source": [
    "#tuple 拆解法\n",
    "name, age, height, weight= 'Wen', 30, 180, 80"
   ]
  },
  {
   "cell_type": "code",
   "execution_count": 8,
   "metadata": {},
   "outputs": [
    {
     "name": "stdout",
     "output_type": "stream",
     "text": [
      "name\n",
      "Price\n"
     ]
    }
   ],
   "source": [
    "for key in {\"name\":\"Apple\", \"Price\":20}.keys():\n",
    "    print(key)"
   ]
  },
  {
   "cell_type": "code",
   "execution_count": 10,
   "metadata": {},
   "outputs": [
    {
     "name": "stdout",
     "output_type": "stream",
     "text": [
      "name\n",
      "Apple\n",
      "========\n",
      "Price\n",
      "20\n",
      "========\n"
     ]
    }
   ],
   "source": [
    "for key,value in {\"name\":\"Apple\", \"Price\":20}.items():\n",
    "    print(key)\n",
    "    print(value)\n",
    "    print('========')"
   ]
  },
  {
   "cell_type": "markdown",
   "metadata": {},
   "source": [
    "#### 2. Set 資料結構\n",
    "- 特性\n",
    "    1. 不可重複"
   ]
  },
  {
   "cell_type": "code",
   "execution_count": 11,
   "metadata": {},
   "outputs": [
    {
     "name": "stdout",
     "output_type": "stream",
     "text": [
      "0\n",
      "1\n",
      "2\n",
      "3\n"
     ]
    }
   ],
   "source": [
    "set = {0,0,1,1,2,2,3,3 }\n",
    "\n",
    "for items in list(set):\n",
    "    print(items)"
   ]
  }
 ],
 "metadata": {
  "kernelspec": {
   "display_name": "base",
   "language": "python",
   "name": "python3"
  },
  "language_info": {
   "codemirror_mode": {
    "name": "ipython",
    "version": 3
   },
   "file_extension": ".py",
   "mimetype": "text/x-python",
   "name": "python",
   "nbconvert_exporter": "python",
   "pygments_lexer": "ipython3",
   "version": "3.12.4"
  }
 },
 "nbformat": 4,
 "nbformat_minor": 2
}
